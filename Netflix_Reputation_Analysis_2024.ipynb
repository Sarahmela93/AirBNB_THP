{
  "cells": [
    {
      "cell_type": "markdown",
      "metadata": {
        "id": "lyCkpIvb9pwV"
      },
      "source": [
        "# Netflix Reputation Analysis 2024\n",
        "## Web Scraping & Sentiment Classification\n",
        "\n",
        "### Project Team:\n",
        "- SOUISSI Youssef\n",
        "- MELAIKIA Sarah\n",
        "\n",
        "### Last Update: [Date]"
      ]
    },
    {
      "cell_type": "code",
      "execution_count": null,
      "metadata": {
        "id": "pC6wDidY9pwY"
      },
      "outputs": [],
      "source": [
        "import pandas as pd\n",
        "import numpy as np"
      ]
    }
  ],
  "metadata": {
    "kernelspec": {
      "display_name": "Python 3",
      "language": "python",
      "name": "python3"
    },
    "language_info": {
      "codemirror_mode": {
        "name": "ipython",
        "version": 3
      },
      "file_extension": ".py",
      "mimetype": "text/x-python",
      "name": "python",
      "nbconvert_exporter": "python",
      "pygments_lexer": "ipython3",
      "version": "3.8.0"
    },
    "colab": {
      "provenance": []
    }
  },
  "nbformat": 4,
  "nbformat_minor": 0
}